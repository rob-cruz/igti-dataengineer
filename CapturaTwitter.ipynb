{
 "cells": [
  {
   "cell_type": "code",
   "execution_count": 1,
   "metadata": {
    "collapsed": true
   },
   "outputs": [
    {
     "name": "stdout",
     "output_type": "stream",
     "text": [
      "Collecting tweepy\n",
      "  Downloading tweepy-4.1.0-py2.py3-none-any.whl (62 kB)\n",
      "Requirement already satisfied: requests<3,>=2.11.1 in c:\\users\\14567\\anaconda3\\lib\\site-packages (from tweepy) (2.24.0)\n",
      "Collecting requests-oauthlib<2,>=1.0.0\n",
      "  Downloading requests_oauthlib-1.3.0-py2.py3-none-any.whl (23 kB)\n",
      "Requirement already satisfied: certifi>=2017.4.17 in c:\\users\\14567\\anaconda3\\lib\\site-packages (from requests<3,>=2.11.1->tweepy) (2020.6.20)\n",
      "Requirement already satisfied: idna<3,>=2.5 in c:\\users\\14567\\anaconda3\\lib\\site-packages (from requests<3,>=2.11.1->tweepy) (2.10)\n",
      "Requirement already satisfied: chardet<4,>=3.0.2 in c:\\users\\14567\\anaconda3\\lib\\site-packages (from requests<3,>=2.11.1->tweepy) (3.0.4)\n",
      "Requirement already satisfied: urllib3!=1.25.0,!=1.25.1,<1.26,>=1.21.1 in c:\\users\\14567\\anaconda3\\lib\\site-packages (from requests<3,>=2.11.1->tweepy) (1.25.11)\n",
      "Collecting oauthlib>=3.0.0\n",
      "  Downloading oauthlib-3.1.1-py2.py3-none-any.whl (146 kB)\n",
      "Installing collected packages: oauthlib, requests-oauthlib, tweepy\n",
      "Successfully installed oauthlib-3.1.1 requests-oauthlib-1.3.0 tweepy-4.1.0\n",
      "Collecting pymongo\n",
      "  Downloading pymongo-3.12.0-cp38-cp38-win_amd64.whl (397 kB)\n",
      "Installing collected packages: pymongo\n",
      "Successfully installed pymongo-3.12.0\n"
     ]
    }
   ],
   "source": [
    "!pip install tweepy\n",
    "!pip install pymongo"
   ]
  },
  {
   "cell_type": "markdown",
   "metadata": {},
   "source": [
    "#Coleta de dados no Twitter"
   ]
  },
  {
   "cell_type": "code",
   "execution_count": 66,
   "metadata": {},
   "outputs": [],
   "source": [
    "#importação de libs\n",
    "#http://docs.tweepy.org/en/v3.5.0/api.html\n",
    "import tweepy"
   ]
  },
  {
   "cell_type": "code",
   "execution_count": 67,
   "metadata": {},
   "outputs": [],
   "source": [
    "#credenciais geradas na api do twitter\n",
    "API_KEY = \"Wke4EWeVPDRDZdYCExntVtCVt\"\n",
    "API_KEY_SECRET = \"FnqnX6lWpswIJwx9b4zxB7rDNFdbIQt6wIcBYxtwfLBu2x8ot3\"\n",
    "BEARER_TOKEN = \"AAAAAAAAAAAAAAAAAAAAACrgUgEAAAAAXW05WTJDZHnsbYU9PpUtzmLx8io%3D8aDzGI3LKfb09HjHsGTpu9VLKlgYodwNuGKIkzRjVEvLVQs0po\"\n",
    "Access_Token_Secret = \"Rc2Oy1O4sMo9n9UdFu40vOzBnURs0aFiayhrg6WQnZYOH\"\n",
    "ACCES_TOKEN = \"273740136-iGQCSVXK27h1C9VFes3vsUMKlNTNco18NuNTLHqG\""
   ]
  },
  {
   "cell_type": "code",
   "execution_count": 68,
   "metadata": {},
   "outputs": [],
   "source": [
    "#autenticação\n",
    "#gera autenticação\n",
    "auth = tweepy.OAuthHandler(API_KEY, API_KEY_SECRET )\n",
    "#cria instancia de autenticação\n",
    "auth.set_access_token(ACCES_TOKEN, Access_Token_Secret)\n",
    "#instancia da API\n",
    "api = tweepy.API(auth)"
   ]
  },
  {
   "cell_type": "code",
   "execution_count": 69,
   "metadata": {},
   "outputs": [],
   "source": [
    "userName =\"ProfessoraIGTI\" \n",
    "userID = \"IgtiProfessora\""
   ]
  },
  {
   "cell_type": "code",
   "execution_count": 73,
   "metadata": {},
   "outputs": [],
   "source": [
    "user_tweet = api.user_timeline(screen_name=userID,\n",
    "                              count=200,\n",
    "                              include_rts = False,\n",
    "                              tweet_mode = 'extended'\n",
    "                              )"
   ]
  },
  {
   "cell_type": "raw",
   "metadata": {},
   "source": [
    "len(user_tweet)"
   ]
  },
  {
   "cell_type": "code",
   "execution_count": 74,
   "metadata": {},
   "outputs": [
    {
     "name": "stdout",
     "output_type": "stream",
     "text": [
      "ID: Status(_api=<tweepy.api.API object at 0x0000022BA8BD2EE0>, _json={'created_at': 'Thu Oct 07 22:23:05 +0000 2021', 'id': 1446239686830301184, 'id_str': '1446239686830301184', 'full_text': 'Agora aula de fundamentos em análise de dados. Tweet postado pelo Knime. #igti', 'truncated': False, 'display_text_range': [0, 78], 'entities': {'hashtags': [{'text': 'igti', 'indices': [73, 78]}], 'symbols': [], 'user_mentions': [], 'urls': []}, 'source': '<a href=\"https://ww.igti.com\" rel=\"nofollow\">KNINE & Twitter</a>', 'in_reply_to_status_id': None, 'in_reply_to_status_id_str': None, 'in_reply_to_user_id': None, 'in_reply_to_user_id_str': None, 'in_reply_to_screen_name': None, 'user': {'id': 1292841330884988931, 'id_str': '1292841330884988931', 'name': 'ProfessoraIGTI', 'screen_name': 'IgtiProfessora', 'location': 'Belo Horizonte', 'description': 'Professora do IGTI', 'url': 'https://t.co/ajwxHuyvt5', 'entities': {'url': {'urls': [{'url': 'https://t.co/ajwxHuyvt5', 'expanded_url': 'https://igti.com.br', 'display_url': 'igti.com.br', 'indices': [0, 23]}]}, 'description': {'urls': []}}, 'protected': False, 'followers_count': 32, 'friends_count': 2, 'listed_count': 0, 'created_at': 'Mon Aug 10 15:13:53 +0000 2020', 'favourites_count': 4, 'utc_offset': None, 'time_zone': None, 'geo_enabled': False, 'verified': False, 'statuses_count': 31, 'lang': None, 'contributors_enabled': False, 'is_translator': False, 'is_translation_enabled': False, 'profile_background_color': 'F5F8FA', 'profile_background_image_url': None, 'profile_background_image_url_https': None, 'profile_background_tile': False, 'profile_image_url': 'http://pbs.twimg.com/profile_images/1292841780665364481/3g7PexW3_normal.png', 'profile_image_url_https': 'https://pbs.twimg.com/profile_images/1292841780665364481/3g7PexW3_normal.png', 'profile_link_color': '1DA1F2', 'profile_sidebar_border_color': 'C0DEED', 'profile_sidebar_fill_color': 'DDEEF6', 'profile_text_color': '333333', 'profile_use_background_image': True, 'has_extended_profile': True, 'default_profile': True, 'default_profile_image': False, 'following': False, 'follow_request_sent': False, 'notifications': False, 'translator_type': 'none', 'withheld_in_countries': []}, 'geo': None, 'coordinates': None, 'place': None, 'contributors': None, 'is_quote_status': False, 'retweet_count': 0, 'favorite_count': 2, 'favorited': False, 'retweeted': False, 'lang': 'pt'}, created_at=datetime.datetime(2021, 10, 7, 22, 23, 5, tzinfo=datetime.timezone.utc), id=1446239686830301184, id_str='1446239686830301184', full_text='Agora aula de fundamentos em análise de dados. Tweet postado pelo Knime. #igti', truncated=False, display_text_range=[0, 78], entities={'hashtags': [{'text': 'igti', 'indices': [73, 78]}], 'symbols': [], 'user_mentions': [], 'urls': []}, source='KNINE & Twitter', source_url='https://ww.igti.com', in_reply_to_status_id=None, in_reply_to_status_id_str=None, in_reply_to_user_id=None, in_reply_to_user_id_str=None, in_reply_to_screen_name=None, author=User(_api=<tweepy.api.API object at 0x0000022BA8BD2EE0>, _json={'id': 1292841330884988931, 'id_str': '1292841330884988931', 'name': 'ProfessoraIGTI', 'screen_name': 'IgtiProfessora', 'location': 'Belo Horizonte', 'description': 'Professora do IGTI', 'url': 'https://t.co/ajwxHuyvt5', 'entities': {'url': {'urls': [{'url': 'https://t.co/ajwxHuyvt5', 'expanded_url': 'https://igti.com.br', 'display_url': 'igti.com.br', 'indices': [0, 23]}]}, 'description': {'urls': []}}, 'protected': False, 'followers_count': 32, 'friends_count': 2, 'listed_count': 0, 'created_at': 'Mon Aug 10 15:13:53 +0000 2020', 'favourites_count': 4, 'utc_offset': None, 'time_zone': None, 'geo_enabled': False, 'verified': False, 'statuses_count': 31, 'lang': None, 'contributors_enabled': False, 'is_translator': False, 'is_translation_enabled': False, 'profile_background_color': 'F5F8FA', 'profile_background_image_url': None, 'profile_background_image_url_https': None, 'profile_background_tile': False, 'profile_image_url': 'http://pbs.twimg.com/profile_images/1292841780665364481/3g7PexW3_normal.png', 'profile_image_url_https': 'https://pbs.twimg.com/profile_images/1292841780665364481/3g7PexW3_normal.png', 'profile_link_color': '1DA1F2', 'profile_sidebar_border_color': 'C0DEED', 'profile_sidebar_fill_color': 'DDEEF6', 'profile_text_color': '333333', 'profile_use_background_image': True, 'has_extended_profile': True, 'default_profile': True, 'default_profile_image': False, 'following': False, 'follow_request_sent': False, 'notifications': False, 'translator_type': 'none', 'withheld_in_countries': []}, id=1292841330884988931, id_str='1292841330884988931', name='ProfessoraIGTI', screen_name='IgtiProfessora', location='Belo Horizonte', description='Professora do IGTI', url='https://t.co/ajwxHuyvt5', entities={'url': {'urls': [{'url': 'https://t.co/ajwxHuyvt5', 'expanded_url': 'https://igti.com.br', 'display_url': 'igti.com.br', 'indices': [0, 23]}]}, 'description': {'urls': []}}, protected=False, followers_count=32, friends_count=2, listed_count=0, created_at=datetime.datetime(2020, 8, 10, 15, 13, 53, tzinfo=datetime.timezone.utc), favourites_count=4, utc_offset=None, time_zone=None, geo_enabled=False, verified=False, statuses_count=31, lang=None, contributors_enabled=False, is_translator=False, is_translation_enabled=False, profile_background_color='F5F8FA', profile_background_image_url=None, profile_background_image_url_https=None, profile_background_tile=False, profile_image_url='http://pbs.twimg.com/profile_images/1292841780665364481/3g7PexW3_normal.png', profile_image_url_https='https://pbs.twimg.com/profile_images/1292841780665364481/3g7PexW3_normal.png', profile_link_color='1DA1F2', profile_sidebar_border_color='C0DEED', profile_sidebar_fill_color='DDEEF6', profile_text_color='333333', profile_use_background_image=True, has_extended_profile=True, default_profile=True, default_profile_image=False, following=False, follow_request_sent=False, notifications=False, translator_type='none', withheld_in_countries=[]), user=User(_api=<tweepy.api.API object at 0x0000022BA8BD2EE0>, _json={'id': 1292841330884988931, 'id_str': '1292841330884988931', 'name': 'ProfessoraIGTI', 'screen_name': 'IgtiProfessora', 'location': 'Belo Horizonte', 'description': 'Professora do IGTI', 'url': 'https://t.co/ajwxHuyvt5', 'entities': {'url': {'urls': [{'url': 'https://t.co/ajwxHuyvt5', 'expanded_url': 'https://igti.com.br', 'display_url': 'igti.com.br', 'indices': [0, 23]}]}, 'description': {'urls': []}}, 'protected': False, 'followers_count': 32, 'friends_count': 2, 'listed_count': 0, 'created_at': 'Mon Aug 10 15:13:53 +0000 2020', 'favourites_count': 4, 'utc_offset': None, 'time_zone': None, 'geo_enabled': False, 'verified': False, 'statuses_count': 31, 'lang': None, 'contributors_enabled': False, 'is_translator': False, 'is_translation_enabled': False, 'profile_background_color': 'F5F8FA', 'profile_background_image_url': None, 'profile_background_image_url_https': None, 'profile_background_tile': False, 'profile_image_url': 'http://pbs.twimg.com/profile_images/1292841780665364481/3g7PexW3_normal.png', 'profile_image_url_https': 'https://pbs.twimg.com/profile_images/1292841780665364481/3g7PexW3_normal.png', 'profile_link_color': '1DA1F2', 'profile_sidebar_border_color': 'C0DEED', 'profile_sidebar_fill_color': 'DDEEF6', 'profile_text_color': '333333', 'profile_use_background_image': True, 'has_extended_profile': True, 'default_profile': True, 'default_profile_image': False, 'following': False, 'follow_request_sent': False, 'notifications': False, 'translator_type': 'none', 'withheld_in_countries': []}, id=1292841330884988931, id_str='1292841330884988931', name='ProfessoraIGTI', screen_name='IgtiProfessora', location='Belo Horizonte', description='Professora do IGTI', url='https://t.co/ajwxHuyvt5', entities={'url': {'urls': [{'url': 'https://t.co/ajwxHuyvt5', 'expanded_url': 'https://igti.com.br', 'display_url': 'igti.com.br', 'indices': [0, 23]}]}, 'description': {'urls': []}}, protected=False, followers_count=32, friends_count=2, listed_count=0, created_at=datetime.datetime(2020, 8, 10, 15, 13, 53, tzinfo=datetime.timezone.utc), favourites_count=4, utc_offset=None, time_zone=None, geo_enabled=False, verified=False, statuses_count=31, lang=None, contributors_enabled=False, is_translator=False, is_translation_enabled=False, profile_background_color='F5F8FA', profile_background_image_url=None, profile_background_image_url_https=None, profile_background_tile=False, profile_image_url='http://pbs.twimg.com/profile_images/1292841780665364481/3g7PexW3_normal.png', profile_image_url_https='https://pbs.twimg.com/profile_images/1292841780665364481/3g7PexW3_normal.png', profile_link_color='1DA1F2', profile_sidebar_border_color='C0DEED', profile_sidebar_fill_color='DDEEF6', profile_text_color='333333', profile_use_background_image=True, has_extended_profile=True, default_profile=True, default_profile_image=False, following=False, follow_request_sent=False, notifications=False, translator_type='none', withheld_in_countries=[]), geo=None, coordinates=None, place=None, contributors=None, is_quote_status=False, retweet_count=0, favorite_count=2, favorited=False, retweeted=False, lang='pt')\n",
      "2021-10-07 22:23:05+00:00\n",
      "ID: Status(_api=<tweepy.api.API object at 0x0000022BA8BD2EE0>, _json={'created_at': 'Thu Aug 12 00:39:45 +0000 2021', 'id': 1425617971804704770, 'id_str': '1425617971804704770', 'full_text': 'Tweet da Prineira aula interativa do bootcamp de Engenheiro(a) de Dados! #engenhariadedados', 'truncated': False, 'display_text_range': [0, 91], 'entities': {'hashtags': [{'text': 'engenhariadedados', 'indices': [73, 91]}], 'symbols': [], 'user_mentions': [], 'urls': []}, 'source': '<a href=\"https://ww.igti.com\" rel=\"nofollow\">KNINE & Twitter</a>', 'in_reply_to_status_id': None, 'in_reply_to_status_id_str': None, 'in_reply_to_user_id': None, 'in_reply_to_user_id_str': None, 'in_reply_to_screen_name': None, 'user': {'id': 1292841330884988931, 'id_str': '1292841330884988931', 'name': 'ProfessoraIGTI', 'screen_name': 'IgtiProfessora', 'location': 'Belo Horizonte', 'description': 'Professora do IGTI', 'url': 'https://t.co/ajwxHuyvt5', 'entities': {'url': {'urls': [{'url': 'https://t.co/ajwxHuyvt5', 'expanded_url': 'https://igti.com.br', 'display_url': 'igti.com.br', 'indices': [0, 23]}]}, 'description': {'urls': []}}, 'protected': False, 'followers_count': 32, 'friends_count': 2, 'listed_count': 0, 'created_at': 'Mon Aug 10 15:13:53 +0000 2020', 'favourites_count': 4, 'utc_offset': None, 'time_zone': None, 'geo_enabled': False, 'verified': False, 'statuses_count': 31, 'lang': None, 'contributors_enabled': False, 'is_translator': False, 'is_translation_enabled': False, 'profile_background_color': 'F5F8FA', 'profile_background_image_url': None, 'profile_background_image_url_https': None, 'profile_background_tile': False, 'profile_image_url': 'http://pbs.twimg.com/profile_images/1292841780665364481/3g7PexW3_normal.png', 'profile_image_url_https': 'https://pbs.twimg.com/profile_images/1292841780665364481/3g7PexW3_normal.png', 'profile_link_color': '1DA1F2', 'profile_sidebar_border_color': 'C0DEED', 'profile_sidebar_fill_color': 'DDEEF6', 'profile_text_color': '333333', 'profile_use_background_image': True, 'has_extended_profile': True, 'default_profile': True, 'default_profile_image': False, 'following': False, 'follow_request_sent': False, 'notifications': False, 'translator_type': 'none', 'withheld_in_countries': []}, 'geo': None, 'coordinates': None, 'place': None, 'contributors': None, 'is_quote_status': False, 'retweet_count': 0, 'favorite_count': 0, 'favorited': False, 'retweeted': False, 'lang': 'pt'}, created_at=datetime.datetime(2021, 8, 12, 0, 39, 45, tzinfo=datetime.timezone.utc), id=1425617971804704770, id_str='1425617971804704770', full_text='Tweet da Prineira aula interativa do bootcamp de Engenheiro(a) de Dados! #engenhariadedados', truncated=False, display_text_range=[0, 91], entities={'hashtags': [{'text': 'engenhariadedados', 'indices': [73, 91]}], 'symbols': [], 'user_mentions': [], 'urls': []}, source='KNINE & Twitter', source_url='https://ww.igti.com', in_reply_to_status_id=None, in_reply_to_status_id_str=None, in_reply_to_user_id=None, in_reply_to_user_id_str=None, in_reply_to_screen_name=None, author=User(_api=<tweepy.api.API object at 0x0000022BA8BD2EE0>, _json={'id': 1292841330884988931, 'id_str': '1292841330884988931', 'name': 'ProfessoraIGTI', 'screen_name': 'IgtiProfessora', 'location': 'Belo Horizonte', 'description': 'Professora do IGTI', 'url': 'https://t.co/ajwxHuyvt5', 'entities': {'url': {'urls': [{'url': 'https://t.co/ajwxHuyvt5', 'expanded_url': 'https://igti.com.br', 'display_url': 'igti.com.br', 'indices': [0, 23]}]}, 'description': {'urls': []}}, 'protected': False, 'followers_count': 32, 'friends_count': 2, 'listed_count': 0, 'created_at': 'Mon Aug 10 15:13:53 +0000 2020', 'favourites_count': 4, 'utc_offset': None, 'time_zone': None, 'geo_enabled': False, 'verified': False, 'statuses_count': 31, 'lang': None, 'contributors_enabled': False, 'is_translator': False, 'is_translation_enabled': False, 'profile_background_color': 'F5F8FA', 'profile_background_image_url': None, 'profile_background_image_url_https': None, 'profile_background_tile': False, 'profile_image_url': 'http://pbs.twimg.com/profile_images/1292841780665364481/3g7PexW3_normal.png', 'profile_image_url_https': 'https://pbs.twimg.com/profile_images/1292841780665364481/3g7PexW3_normal.png', 'profile_link_color': '1DA1F2', 'profile_sidebar_border_color': 'C0DEED', 'profile_sidebar_fill_color': 'DDEEF6', 'profile_text_color': '333333', 'profile_use_background_image': True, 'has_extended_profile': True, 'default_profile': True, 'default_profile_image': False, 'following': False, 'follow_request_sent': False, 'notifications': False, 'translator_type': 'none', 'withheld_in_countries': []}, id=1292841330884988931, id_str='1292841330884988931', name='ProfessoraIGTI', screen_name='IgtiProfessora', location='Belo Horizonte', description='Professora do IGTI', url='https://t.co/ajwxHuyvt5', entities={'url': {'urls': [{'url': 'https://t.co/ajwxHuyvt5', 'expanded_url': 'https://igti.com.br', 'display_url': 'igti.com.br', 'indices': [0, 23]}]}, 'description': {'urls': []}}, protected=False, followers_count=32, friends_count=2, listed_count=0, created_at=datetime.datetime(2020, 8, 10, 15, 13, 53, tzinfo=datetime.timezone.utc), favourites_count=4, utc_offset=None, time_zone=None, geo_enabled=False, verified=False, statuses_count=31, lang=None, contributors_enabled=False, is_translator=False, is_translation_enabled=False, profile_background_color='F5F8FA', profile_background_image_url=None, profile_background_image_url_https=None, profile_background_tile=False, profile_image_url='http://pbs.twimg.com/profile_images/1292841780665364481/3g7PexW3_normal.png', profile_image_url_https='https://pbs.twimg.com/profile_images/1292841780665364481/3g7PexW3_normal.png', profile_link_color='1DA1F2', profile_sidebar_border_color='C0DEED', profile_sidebar_fill_color='DDEEF6', profile_text_color='333333', profile_use_background_image=True, has_extended_profile=True, default_profile=True, default_profile_image=False, following=False, follow_request_sent=False, notifications=False, translator_type='none', withheld_in_countries=[]), user=User(_api=<tweepy.api.API object at 0x0000022BA8BD2EE0>, _json={'id': 1292841330884988931, 'id_str': '1292841330884988931', 'name': 'ProfessoraIGTI', 'screen_name': 'IgtiProfessora', 'location': 'Belo Horizonte', 'description': 'Professora do IGTI', 'url': 'https://t.co/ajwxHuyvt5', 'entities': {'url': {'urls': [{'url': 'https://t.co/ajwxHuyvt5', 'expanded_url': 'https://igti.com.br', 'display_url': 'igti.com.br', 'indices': [0, 23]}]}, 'description': {'urls': []}}, 'protected': False, 'followers_count': 32, 'friends_count': 2, 'listed_count': 0, 'created_at': 'Mon Aug 10 15:13:53 +0000 2020', 'favourites_count': 4, 'utc_offset': None, 'time_zone': None, 'geo_enabled': False, 'verified': False, 'statuses_count': 31, 'lang': None, 'contributors_enabled': False, 'is_translator': False, 'is_translation_enabled': False, 'profile_background_color': 'F5F8FA', 'profile_background_image_url': None, 'profile_background_image_url_https': None, 'profile_background_tile': False, 'profile_image_url': 'http://pbs.twimg.com/profile_images/1292841780665364481/3g7PexW3_normal.png', 'profile_image_url_https': 'https://pbs.twimg.com/profile_images/1292841780665364481/3g7PexW3_normal.png', 'profile_link_color': '1DA1F2', 'profile_sidebar_border_color': 'C0DEED', 'profile_sidebar_fill_color': 'DDEEF6', 'profile_text_color': '333333', 'profile_use_background_image': True, 'has_extended_profile': True, 'default_profile': True, 'default_profile_image': False, 'following': False, 'follow_request_sent': False, 'notifications': False, 'translator_type': 'none', 'withheld_in_countries': []}, id=1292841330884988931, id_str='1292841330884988931', name='ProfessoraIGTI', screen_name='IgtiProfessora', location='Belo Horizonte', description='Professora do IGTI', url='https://t.co/ajwxHuyvt5', entities={'url': {'urls': [{'url': 'https://t.co/ajwxHuyvt5', 'expanded_url': 'https://igti.com.br', 'display_url': 'igti.com.br', 'indices': [0, 23]}]}, 'description': {'urls': []}}, protected=False, followers_count=32, friends_count=2, listed_count=0, created_at=datetime.datetime(2020, 8, 10, 15, 13, 53, tzinfo=datetime.timezone.utc), favourites_count=4, utc_offset=None, time_zone=None, geo_enabled=False, verified=False, statuses_count=31, lang=None, contributors_enabled=False, is_translator=False, is_translation_enabled=False, profile_background_color='F5F8FA', profile_background_image_url=None, profile_background_image_url_https=None, profile_background_tile=False, profile_image_url='http://pbs.twimg.com/profile_images/1292841780665364481/3g7PexW3_normal.png', profile_image_url_https='https://pbs.twimg.com/profile_images/1292841780665364481/3g7PexW3_normal.png', profile_link_color='1DA1F2', profile_sidebar_border_color='C0DEED', profile_sidebar_fill_color='DDEEF6', profile_text_color='333333', profile_use_background_image=True, has_extended_profile=True, default_profile=True, default_profile_image=False, following=False, follow_request_sent=False, notifications=False, translator_type='none', withheld_in_countries=[]), geo=None, coordinates=None, place=None, contributors=None, is_quote_status=False, retweet_count=0, favorite_count=0, favorited=False, retweeted=False, lang='pt')\n",
      "2021-08-12 00:39:45+00:00\n",
      "ID: Status(_api=<tweepy.api.API object at 0x0000022BA8BD2EE0>, _json={'created_at': 'Wed Aug 11 22:48:09 +0000 2021', 'id': 1425589886917173256, 'id_str': '1425589886917173256', 'full_text': 'Agora aula de fundamentos em análise de dados. #igti', 'truncated': False, 'display_text_range': [0, 52], 'entities': {'hashtags': [{'text': 'igti', 'indices': [47, 52]}], 'symbols': [], 'user_mentions': [], 'urls': []}, 'source': '<a href=\"https://ww.igti.com\" rel=\"nofollow\">KNINE & Twitter</a>', 'in_reply_to_status_id': None, 'in_reply_to_status_id_str': None, 'in_reply_to_user_id': None, 'in_reply_to_user_id_str': None, 'in_reply_to_screen_name': None, 'user': {'id': 1292841330884988931, 'id_str': '1292841330884988931', 'name': 'ProfessoraIGTI', 'screen_name': 'IgtiProfessora', 'location': 'Belo Horizonte', 'description': 'Professora do IGTI', 'url': 'https://t.co/ajwxHuyvt5', 'entities': {'url': {'urls': [{'url': 'https://t.co/ajwxHuyvt5', 'expanded_url': 'https://igti.com.br', 'display_url': 'igti.com.br', 'indices': [0, 23]}]}, 'description': {'urls': []}}, 'protected': False, 'followers_count': 32, 'friends_count': 2, 'listed_count': 0, 'created_at': 'Mon Aug 10 15:13:53 +0000 2020', 'favourites_count': 4, 'utc_offset': None, 'time_zone': None, 'geo_enabled': False, 'verified': False, 'statuses_count': 31, 'lang': None, 'contributors_enabled': False, 'is_translator': False, 'is_translation_enabled': False, 'profile_background_color': 'F5F8FA', 'profile_background_image_url': None, 'profile_background_image_url_https': None, 'profile_background_tile': False, 'profile_image_url': 'http://pbs.twimg.com/profile_images/1292841780665364481/3g7PexW3_normal.png', 'profile_image_url_https': 'https://pbs.twimg.com/profile_images/1292841780665364481/3g7PexW3_normal.png', 'profile_link_color': '1DA1F2', 'profile_sidebar_border_color': 'C0DEED', 'profile_sidebar_fill_color': 'DDEEF6', 'profile_text_color': '333333', 'profile_use_background_image': True, 'has_extended_profile': True, 'default_profile': True, 'default_profile_image': False, 'following': False, 'follow_request_sent': False, 'notifications': False, 'translator_type': 'none', 'withheld_in_countries': []}, 'geo': None, 'coordinates': None, 'place': None, 'contributors': None, 'is_quote_status': False, 'retweet_count': 0, 'favorite_count': 3, 'favorited': False, 'retweeted': False, 'lang': 'pt'}, created_at=datetime.datetime(2021, 8, 11, 22, 48, 9, tzinfo=datetime.timezone.utc), id=1425589886917173256, id_str='1425589886917173256', full_text='Agora aula de fundamentos em análise de dados. #igti', truncated=False, display_text_range=[0, 52], entities={'hashtags': [{'text': 'igti', 'indices': [47, 52]}], 'symbols': [], 'user_mentions': [], 'urls': []}, source='KNINE & Twitter', source_url='https://ww.igti.com', in_reply_to_status_id=None, in_reply_to_status_id_str=None, in_reply_to_user_id=None, in_reply_to_user_id_str=None, in_reply_to_screen_name=None, author=User(_api=<tweepy.api.API object at 0x0000022BA8BD2EE0>, _json={'id': 1292841330884988931, 'id_str': '1292841330884988931', 'name': 'ProfessoraIGTI', 'screen_name': 'IgtiProfessora', 'location': 'Belo Horizonte', 'description': 'Professora do IGTI', 'url': 'https://t.co/ajwxHuyvt5', 'entities': {'url': {'urls': [{'url': 'https://t.co/ajwxHuyvt5', 'expanded_url': 'https://igti.com.br', 'display_url': 'igti.com.br', 'indices': [0, 23]}]}, 'description': {'urls': []}}, 'protected': False, 'followers_count': 32, 'friends_count': 2, 'listed_count': 0, 'created_at': 'Mon Aug 10 15:13:53 +0000 2020', 'favourites_count': 4, 'utc_offset': None, 'time_zone': None, 'geo_enabled': False, 'verified': False, 'statuses_count': 31, 'lang': None, 'contributors_enabled': False, 'is_translator': False, 'is_translation_enabled': False, 'profile_background_color': 'F5F8FA', 'profile_background_image_url': None, 'profile_background_image_url_https': None, 'profile_background_tile': False, 'profile_image_url': 'http://pbs.twimg.com/profile_images/1292841780665364481/3g7PexW3_normal.png', 'profile_image_url_https': 'https://pbs.twimg.com/profile_images/1292841780665364481/3g7PexW3_normal.png', 'profile_link_color': '1DA1F2', 'profile_sidebar_border_color': 'C0DEED', 'profile_sidebar_fill_color': 'DDEEF6', 'profile_text_color': '333333', 'profile_use_background_image': True, 'has_extended_profile': True, 'default_profile': True, 'default_profile_image': False, 'following': False, 'follow_request_sent': False, 'notifications': False, 'translator_type': 'none', 'withheld_in_countries': []}, id=1292841330884988931, id_str='1292841330884988931', name='ProfessoraIGTI', screen_name='IgtiProfessora', location='Belo Horizonte', description='Professora do IGTI', url='https://t.co/ajwxHuyvt5', entities={'url': {'urls': [{'url': 'https://t.co/ajwxHuyvt5', 'expanded_url': 'https://igti.com.br', 'display_url': 'igti.com.br', 'indices': [0, 23]}]}, 'description': {'urls': []}}, protected=False, followers_count=32, friends_count=2, listed_count=0, created_at=datetime.datetime(2020, 8, 10, 15, 13, 53, tzinfo=datetime.timezone.utc), favourites_count=4, utc_offset=None, time_zone=None, geo_enabled=False, verified=False, statuses_count=31, lang=None, contributors_enabled=False, is_translator=False, is_translation_enabled=False, profile_background_color='F5F8FA', profile_background_image_url=None, profile_background_image_url_https=None, profile_background_tile=False, profile_image_url='http://pbs.twimg.com/profile_images/1292841780665364481/3g7PexW3_normal.png', profile_image_url_https='https://pbs.twimg.com/profile_images/1292841780665364481/3g7PexW3_normal.png', profile_link_color='1DA1F2', profile_sidebar_border_color='C0DEED', profile_sidebar_fill_color='DDEEF6', profile_text_color='333333', profile_use_background_image=True, has_extended_profile=True, default_profile=True, default_profile_image=False, following=False, follow_request_sent=False, notifications=False, translator_type='none', withheld_in_countries=[]), user=User(_api=<tweepy.api.API object at 0x0000022BA8BD2EE0>, _json={'id': 1292841330884988931, 'id_str': '1292841330884988931', 'name': 'ProfessoraIGTI', 'screen_name': 'IgtiProfessora', 'location': 'Belo Horizonte', 'description': 'Professora do IGTI', 'url': 'https://t.co/ajwxHuyvt5', 'entities': {'url': {'urls': [{'url': 'https://t.co/ajwxHuyvt5', 'expanded_url': 'https://igti.com.br', 'display_url': 'igti.com.br', 'indices': [0, 23]}]}, 'description': {'urls': []}}, 'protected': False, 'followers_count': 32, 'friends_count': 2, 'listed_count': 0, 'created_at': 'Mon Aug 10 15:13:53 +0000 2020', 'favourites_count': 4, 'utc_offset': None, 'time_zone': None, 'geo_enabled': False, 'verified': False, 'statuses_count': 31, 'lang': None, 'contributors_enabled': False, 'is_translator': False, 'is_translation_enabled': False, 'profile_background_color': 'F5F8FA', 'profile_background_image_url': None, 'profile_background_image_url_https': None, 'profile_background_tile': False, 'profile_image_url': 'http://pbs.twimg.com/profile_images/1292841780665364481/3g7PexW3_normal.png', 'profile_image_url_https': 'https://pbs.twimg.com/profile_images/1292841780665364481/3g7PexW3_normal.png', 'profile_link_color': '1DA1F2', 'profile_sidebar_border_color': 'C0DEED', 'profile_sidebar_fill_color': 'DDEEF6', 'profile_text_color': '333333', 'profile_use_background_image': True, 'has_extended_profile': True, 'default_profile': True, 'default_profile_image': False, 'following': False, 'follow_request_sent': False, 'notifications': False, 'translator_type': 'none', 'withheld_in_countries': []}, id=1292841330884988931, id_str='1292841330884988931', name='ProfessoraIGTI', screen_name='IgtiProfessora', location='Belo Horizonte', description='Professora do IGTI', url='https://t.co/ajwxHuyvt5', entities={'url': {'urls': [{'url': 'https://t.co/ajwxHuyvt5', 'expanded_url': 'https://igti.com.br', 'display_url': 'igti.com.br', 'indices': [0, 23]}]}, 'description': {'urls': []}}, protected=False, followers_count=32, friends_count=2, listed_count=0, created_at=datetime.datetime(2020, 8, 10, 15, 13, 53, tzinfo=datetime.timezone.utc), favourites_count=4, utc_offset=None, time_zone=None, geo_enabled=False, verified=False, statuses_count=31, lang=None, contributors_enabled=False, is_translator=False, is_translation_enabled=False, profile_background_color='F5F8FA', profile_background_image_url=None, profile_background_image_url_https=None, profile_background_tile=False, profile_image_url='http://pbs.twimg.com/profile_images/1292841780665364481/3g7PexW3_normal.png', profile_image_url_https='https://pbs.twimg.com/profile_images/1292841780665364481/3g7PexW3_normal.png', profile_link_color='1DA1F2', profile_sidebar_border_color='C0DEED', profile_sidebar_fill_color='DDEEF6', profile_text_color='333333', profile_use_background_image=True, has_extended_profile=True, default_profile=True, default_profile_image=False, following=False, follow_request_sent=False, notifications=False, translator_type='none', withheld_in_countries=[]), geo=None, coordinates=None, place=None, contributors=None, is_quote_status=False, retweet_count=0, favorite_count=3, favorited=False, retweeted=False, lang='pt')\n",
      "2021-08-11 22:48:09+00:00\n"
     ]
    }
   ],
   "source": [
    "for user_tweet in user_tweet[:3]:\n",
    "    print(\"ID: {}\" .format(user_tweet))\n",
    "    print(user_tweet.created_at)\n",
    "    "
   ]
  },
  {
   "cell_type": "code",
   "execution_count": null,
   "metadata": {},
   "outputs": [],
   "source": []
  },
  {
   "cell_type": "code",
   "execution_count": null,
   "metadata": {},
   "outputs": [],
   "source": []
  }
 ],
 "metadata": {
  "kernelspec": {
   "display_name": "Python 3",
   "language": "python",
   "name": "python3"
  },
  "language_info": {
   "codemirror_mode": {
    "name": "ipython",
    "version": 3
   },
   "file_extension": ".py",
   "mimetype": "text/x-python",
   "name": "python",
   "nbconvert_exporter": "python",
   "pygments_lexer": "ipython3",
   "version": "3.8.5"
  }
 },
 "nbformat": 4,
 "nbformat_minor": 4
}
